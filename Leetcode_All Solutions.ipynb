{
 "cells": [
  {
   "cell_type": "markdown",
   "metadata": {},
   "source": [
    "#1"
   ]
  },
  {
   "cell_type": "code",
   "execution_count": 2,
   "metadata": {
    "collapsed": false
   },
   "outputs": [],
   "source": [
    "#BEST Solution: \n",
    "def twoSum(nums, target):\n",
    "    n = len(nums)\n",
    "    if n > 1:\n",
    "        d = {}\n",
    "        for i in range(0,n):\n",
    "            if nums[i] not in d:\n",
    "                d[target-nums[i]] = i\n",
    "            else:\n",
    "                return [d[nums[i]], i]\n",
    "    return None"
   ]
  },
  {
   "cell_type": "code",
   "execution_count": 1,
   "metadata": {
    "collapsed": true
   },
   "outputs": [],
   "source": [
    "#Other Solution 1\n",
    "class Solution(object):\n",
    "    def twoSum(self, nums, target):\n",
    "        \"\"\"\n",
    "        :type nums: List[int]\n",
    "        :type target: int\n",
    "        :rtype: List[int]\n",
    "        \"\"\"\n",
    "        n = len(nums)\n",
    "        if n <= 1:\n",
    "            return None\n",
    "        else:\n",
    "            for i in range(0, n-1):\n",
    "                for j in range(i+1, n):\n",
    "                    if nums[i] + nums[j] == target:\n",
    "                        return [i, j]"
   ]
  },
  {
   "cell_type": "code",
   "execution_count": 2,
   "metadata": {
    "collapsed": false
   },
   "outputs": [],
   "source": [
    "#Other Solution 2\n",
    "class Solution(object):\n",
    "    def twoSum(self, nums, target):\n",
    "        \"\"\"\n",
    "        :type nums: List[int]\n",
    "        :type target: int\n",
    "        :rtype: List[int]\n",
    "        \"\"\"\n",
    "        n = len(nums)\n",
    "        if n <= 1:\n",
    "            return None\n",
    "        nums_new = sorted(nums)\n",
    "        i = 0\n",
    "        j = n - 1\n",
    "        while i < j: # i, j are in new sorted list\n",
    "            if nums_new[i] + nums_new[j] > target:\n",
    "                j = j - 1\n",
    "            elif nums_new[i] + nums_new[j] == target:\n",
    "                if nums_new[i] == nums_new[j]:\n",
    "                    return [nums.index(nums_new[i]), nums.index((nums_new[j]), (nums.index(nums_new[i])+1))]\n",
    "                else:\n",
    "                    return [nums.index(nums_new[i]), nums.index(nums_new[j])]\n",
    "            else:\n",
    "                 i = i + 1\n",
    "        return None"
   ]
  },
  {
   "cell_type": "markdown",
   "metadata": {},
   "source": [
    "#2"
   ]
  },
  {
   "cell_type": "code",
   "execution_count": 11,
   "metadata": {
    "collapsed": false
   },
   "outputs": [],
   "source": [
    "def addTwoNumbers(l1, l2):\n",
    "        \"\"\"\n",
    "        :type l1: ListNode\n",
    "        :type l2: ListNode\n",
    "        :rtype: ListNode\n",
    "        \"\"\"\n",
    "        if l1 == [] or l2 == []:\n",
    "            return []\n",
    "        c_l1 = l1\n",
    "        c_l2 = l2\n",
    "        l3 = ListNode(None)\n",
    "        c_l3 = l3\n",
    "        remain = 0\n",
    "        while c_l1 != None and c_l2 != None: #normal processing\n",
    "            temp = ListNode((c_l1.val + c_l2.val + remain) % 10)\n",
    "            c_l3.next = temp\n",
    "            c_l3 = temp\n",
    "            remain = (c_l1.val + c_l2.val + remain) // 10\n",
    "            c_l1 = c_l1.next\n",
    "            c_l2 = c_l2.next\n",
    "            \n",
    "        if c_l1 == None and c_l2 == None: # special case: same length\n",
    "                c_l3.next = None\n",
    "        while c_l1 == None and c_l2 != None: # sepecial case: l2 longer\n",
    "            temp = ListNode((c_l2.val + remain) % 10)\n",
    "            c_l3.next = temp\n",
    "            c_l3 = temp\n",
    "            remain = (c_l2.val + remain) // 10\n",
    "            c_l2 = c_l2.next\n",
    "            \n",
    "        while c_l1 != None and c_l2 == None: # special case: l1 longer\n",
    "            temp = ListNode((c_l1.val + remain) % 10)\n",
    "            c_l3.next = temp\n",
    "            c_l3 = temp\n",
    "            remain = (c_l1.val + remain) // 10\n",
    "            c_l1 = c_l1.next\n",
    "        \n",
    "        if remain == 1: # special case: last node is larger than 10\n",
    "            c_l3.next = ListNode(1)\n",
    "        \n",
    "        return l3.next"
   ]
  },
  {
   "cell_type": "code",
   "execution_count": null,
   "metadata": {
    "collapsed": true
   },
   "outputs": [],
   "source": [
    "def addTwoNumbers(l1, l2):\n",
    "    c_l1 = l1\n",
    "    c_l2 = l2\n",
    "    dummy = ListNode(None)\n",
    "    c_l3 = dummy\n",
    "    remain = 0\n",
    "    \n",
    "    while c_l1 != None and c_l2 != None:\n",
    "        temp = ListNode((c_l1.val + c_l2.val + remain)%10)\n",
    "        c_l3.next = temp\n",
    "        c_l3 = temp\n",
    "        remain = (c_l1.val + c_l2.val + remain)//10\n",
    "        c_l1 = c_l1.next\n",
    "        c_l2 = c_l2.next\n",
    "    \n",
    "    while c_l1 == None and c_l2 != None:\n",
    "        temp = ListNode((c_l2.val + remain)%10)\n",
    "        c_l3.next = temp\n",
    "        c_l3 = temp\n",
    "        remain = (c_l2.val + remain)//10\n",
    "        c_l2 = c_l2.next\n",
    "    \n",
    "    while c_l1 != None and c_l2 == None:\n",
    "        temp = ListNode((c_l1.val + remain)%10)\n",
    "        c_l3.next = temp\n",
    "        c_l3 = temp\n",
    "        remain = (c_l1.val + remain)//10\n",
    "        c_l1 = c_l1.next\n",
    "        \n",
    "    #last digit\n",
    "    if remain == 1:\n",
    "        c_l3.next = ListNode(1)\n",
    "        \n",
    "    return dummy.next\n",
    "    "
   ]
  },
  {
   "cell_type": "markdown",
   "metadata": {},
   "source": [
    "#5\n"
   ]
  },
  {
   "cell_type": "code",
   "execution_count": 4,
   "metadata": {
    "collapsed": true
   },
   "outputs": [],
   "source": [
    "class Solution(object):\n",
    "    def longestPalindrome(self, s):\n",
    "        \"\"\"\n",
    "        :type s: str\n",
    "        :rtype: str\n",
    "        \"\"\"\n",
    "        if len(s) <= 1:\n",
    "            return s\n",
    "                \n",
    "        s_long = s[0]\n",
    "       \n",
    "        for i in range(0, len(s)):\n",
    "            #Odd number of characters in string\n",
    "            j = 1\n",
    "            while i - j >= 0 and i + j < len(s) and s[i-j] == s[i + j]:\n",
    "                j = j + 1\n",
    "            if 2*j -1 > len(s_long):\n",
    "                s_long = s[(i-(j-1)): (i+(j-1)+1)]\n",
    "            #Even number of characters in string\n",
    "            k = 0\n",
    "            while i - k >= 0 and i + k + 1 < len(s) and s[i-k] == s[i + k+1]:\n",
    "                k = k + 1\n",
    "            if 2*k  > len(s_long):\n",
    "                s_long = s[(i-(k-1)): ((i+(k-1)+1)+1)]\n",
    "        return s_long"
   ]
  },
  {
   "cell_type": "markdown",
   "metadata": {},
   "source": [
    "#3\n"
   ]
  },
  {
   "cell_type": "code",
   "execution_count": 5,
   "metadata": {
    "collapsed": false
   },
   "outputs": [],
   "source": [
    "#Algorithm: one by one\n",
    "#big-O: N2   \n",
    "def lengthOfLongestSubstring(self, s):\n",
    "        \"\"\"\n",
    "        :type s: str\n",
    "        :rtype: int\n",
    "        \"\"\"\n",
    "        if s == \"\":\n",
    "            return 0\n",
    "        \n",
    "        s_max = s[0]\n",
    "        for i in range(0, len(s)):\n",
    "            d = {s[i]:1}\n",
    "            j = i + 1 \n",
    "            while j < len(s) and s[j] not in d:\n",
    "                d[s[j]] = 1\n",
    "                j = j + 1\n",
    "            if len(s[i:j]) > len(s_max):\n",
    "                s_max = s[i:j]\n",
    "        return len(s_max)"
   ]
  },
  {
   "cell_type": "code",
   "execution_count": 6,
   "metadata": {
    "collapsed": false
   },
   "outputs": [],
   "source": [
    "#Algorithm: using set and two pointers\n",
    "#big-O: N   \n",
    "def lengthOfLongestSubstring(self, s):\n",
    "        \"\"\"\n",
    "        :type s: str\n",
    "        :rtype: int\n",
    "        \"\"\"\n",
    "        if s == \"\":\n",
    "            return 0\n",
    "        \n",
    "        s_max = s[0]\n",
    "        for i in range(0, len(s)):\n",
    "            d = {s[i]:1}\n",
    "            j = i + 1 \n",
    "            while j < len(s) and s[j] not in d:\n",
    "                d[s[j]] = 1\n",
    "                j = j + 1\n",
    "            if len(s[i:j]) > len(s_max):\n",
    "                s_max = s[i:j]\n",
    "        return len(s_max)"
   ]
  },
  {
   "cell_type": "code",
   "execution_count": 7,
   "metadata": {
    "collapsed": false
   },
   "outputs": [
    {
     "name": "stdout",
     "output_type": "stream",
     "text": [
      "<class 'sets.Set'>\n"
     ]
    }
   ],
   "source": [
    "from sets import Set\n",
    "set_s = Set()\n",
    "print type(set_s)"
   ]
  },
  {
   "cell_type": "code",
   "execution_count": 8,
   "metadata": {
    "collapsed": false
   },
   "outputs": [],
   "source": [
    "    def lengthOfLongestSubstring(s):\n",
    "        \"\"\"\n",
    "        :type s: str\n",
    "        :rtype: int\n",
    "        \"\"\"\n",
    "        if len(s) <= 1:\n",
    "            return len(s)\n",
    "        elif len(s) ==2:\n",
    "            if s[0] == s[1]:\n",
    "                return 1\n",
    "            else:\n",
    "                return 2\n",
    "        l = 0\n",
    "        r = 0\n",
    "        s_max = s[0]\n",
    "        set_s = Set()\n",
    "        while r < len(s):\n",
    "            if s[r] not in set_s:\n",
    "                set_s.add(s[r])\n",
    "                r = r + 1\n",
    "            else:\n",
    "                if len(s[l:r]) > len(s_max):\n",
    "                    s_max = s[l:r]\n",
    "                while s[l] != s[r]:\n",
    "                    set_s.remove(s[l])\n",
    "                    l = l + 1\n",
    "                set_s.remove(s[r])\n",
    "                l = l + 1\n",
    "        if len(s[l:r]) > len(s_max): #while reaching the right end, r = len(s), the last string wont compare with the historically longest\n",
    "                    s_max = s[l:r] # So need to do the last test seperately\n",
    "        return len(s_max)"
   ]
  },
  {
   "cell_type": "code",
   "execution_count": 9,
   "metadata": {
    "collapsed": false
   },
   "outputs": [
    {
     "name": "stdout",
     "output_type": "stream",
     "text": [
      "2\n"
     ]
    }
   ],
   "source": [
    "s = 'aab'\n",
    "print lengthOfLongestSubstring(s)"
   ]
  },
  {
   "cell_type": "code",
   "execution_count": 10,
   "metadata": {
    "collapsed": false
   },
   "outputs": [
    {
     "name": "stdout",
     "output_type": "stream",
     "text": [
      "99\n"
     ]
    }
   ],
   "source": [
    "a = int(ord('c'))\n",
    "print a"
   ]
  },
  {
   "cell_type": "code",
   "execution_count": 18,
   "metadata": {
    "collapsed": false
   },
   "outputs": [],
   "source": [
    "def lengthOfLongestSubstring(s):\n",
    "        \"\"\"\n",
    "        :type s: str\n",
    "        :rtype: int\n",
    "        \"\"\"\n",
    "        if len(s) <= 1:\n",
    "            return len(s)\n",
    "        elif len(s) ==2:\n",
    "            if s[0] == s[1]:\n",
    "                return 1\n",
    "            else:\n",
    "                return 2\n",
    "        l = 0\n",
    "        r = 0\n",
    "        s_max = s[0]\n",
    "        list1 = [None for i in range(256)]\n",
    "        while r < len(s):\n",
    "            if list1[ord(s[r])] == None:\n",
    "                list1[ord(s[r])] = r\n",
    "                r = r + 1\n",
    "                print 'r is', r\n",
    "                if len(s[l:r]) > len(s_max):\n",
    "                    s_max = s[l:r]\n",
    "                    print s_max\n",
    "            elif list1[ord(s[r])] > l:\n",
    "                l = list1[ord(s[r])] + 1\n",
    "                print 'l is', l\n",
    "                list1[ord(s[r])] = r\n",
    "                r = r +1\n",
    "                print 'r is', r\n",
    "        return l, r, s_max, len(s_max)"
   ]
  },
  {
   "cell_type": "code",
   "execution_count": null,
   "metadata": {
    "collapsed": false
   },
   "outputs": [],
   "source": [
    "s = 'tmmzuxt'\n",
    "print lengthOfLongestSubstring(s)"
   ]
  },
  {
   "cell_type": "markdown",
   "metadata": {
    "collapsed": true
   },
   "source": [
    "#7"
   ]
  },
  {
   "cell_type": "code",
   "execution_count": 56,
   "metadata": {
    "collapsed": false
   },
   "outputs": [],
   "source": [
    "    def reverse(x):\n",
    "        result = 0\n",
    "        INT_MAX = 2147483647\n",
    "        INT_MIN = -2147483648\n",
    "        \n",
    "        if x == 0:\n",
    "            return 0\n",
    "        elif x > 0:\n",
    "            sign = 1\n",
    "        else:\n",
    "            sign = -1\n",
    "        while x !=0 and sign == 1:\n",
    "            if result  >= (INT_MAX - x % 10) / 10.0:\n",
    "                print x, result, (INT_MAX - x % 10) / 10.0\n",
    "                return 0\n",
    "            else:\n",
    "                result = result * 10 + x % 10\n",
    "                x = x // 10\n",
    "        \n",
    "        while x !=0 and sign == -1:\n",
    "            if result >= (INT_MIN * sign - (x * sign) % 10) / 10:\n",
    "                return 0\n",
    "            else:\n",
    "                result = result * 10 + (x * sign) % 10\n",
    "                x = ((x * sign) // 10) * sign\n",
    "        \n",
    "        return result * sign"
   ]
  },
  {
   "cell_type": "code",
   "execution_count": 57,
   "metadata": {
    "collapsed": false
   },
   "outputs": [
    {
     "data": {
      "text/plain": [
       "2147483641"
      ]
     },
     "execution_count": 57,
     "metadata": {},
     "output_type": "execute_result"
    }
   ],
   "source": [
    "reverse(1463847412)"
   ]
  },
  {
   "cell_type": "code",
   "execution_count": 58,
   "metadata": {
    "collapsed": false
   },
   "outputs": [],
   "source": [
    "    def reverse(x):\n",
    "        result = 0\n",
    "        INT_MAX = 2147483647\n",
    "        INT_MIN = -2147483648\n",
    "        \n",
    "        if x == INT_MIN:\n",
    "            return 0\n",
    "            \n",
    "        x_abs = abs(x)\n",
    "        \n",
    "        while x_abs !=0:\n",
    "            if result  >= (INT_MAX - x_abs % 10) / 10.0:\n",
    "                return 0\n",
    "            else:\n",
    "                result = result * 10 + x_abs % 10\n",
    "                x_abs = x_abs // 10\n",
    "                \n",
    "        if x > 0:\n",
    "            return result\n",
    "        else:\n",
    "            return result * (-1)\n",
    "\n",
    "       "
   ]
  },
  {
   "cell_type": "code",
   "execution_count": 127,
   "metadata": {
    "collapsed": false
   },
   "outputs": [],
   "source": [
    "def isPalindrome(x):\n",
    "        if x < 0:\n",
    "            return False\n",
    "        \n",
    "        factor = 1\n",
    "        x2 = x\n",
    "        while x2 != 0 :\n",
    "            factor = factor * 10\n",
    "            x2 = x2 // 10\n",
    "        factor = factor / 10\n",
    "        print factor\n",
    "        \n",
    "        IsTrue = True\n",
    "        rest = x\n",
    "        while rest != 0 and IsTrue:\n",
    "            if  rest // factor == rest % 10:\n",
    "                IsTrue = True\n",
    "                rest = rest % factor // 10\n",
    "                factor = factor / 100\n",
    "                #print 'factor', factor, 'rest', rest\n",
    "            else:\n",
    "                return False\n",
    "        return IsTrue\n",
    "        \n",
    "        "
   ]
  },
  {
   "cell_type": "code",
   "execution_count": 128,
   "metadata": {
    "collapsed": false
   },
   "outputs": [
    {
     "name": "stdout",
     "output_type": "stream",
     "text": [
      "1000000000\n"
     ]
    },
    {
     "data": {
      "text/plain": [
       "True"
      ]
     },
     "execution_count": 128,
     "metadata": {},
     "output_type": "execute_result"
    }
   ],
   "source": [
    "isPalindrome(1000110001)"
   ]
  },
  {
   "cell_type": "code",
   "execution_count": 132,
   "metadata": {
    "collapsed": false
   },
   "outputs": [],
   "source": [
    "def isPalindrome(x):\n",
    "        #negative numbers\n",
    "        if x < 0:\n",
    "            return False\n",
    "        factor = 1\n",
    "        \n",
    "        #Calculate factor\n",
    "        x2 = x\n",
    "        while x2 != 0 :\n",
    "            factor = factor * 10\n",
    "            x2 = x2 // 10\n",
    "        factor = factor / 10\n",
    "        print factor\n",
    "        \n",
    "        #Loop\n",
    "        while x != 0:\n",
    "            if x // factor == x % 10:\n",
    "                x = x % factor // 10\n",
    "                factor = factor // 100\n",
    "            else:\n",
    "                return False\n",
    "        return True\n",
    "        "
   ]
  },
  {
   "cell_type": "markdown",
   "metadata": {
    "collapsed": false
   },
   "source": [
    "#6\n"
   ]
  },
  {
   "cell_type": "code",
   "execution_count": null,
   "metadata": {
    "collapsed": false
   },
   "outputs": [],
   "source": [
    "def convert(s, numRows):\n",
    "    ret=''\n",
    "    if numRows == 1:\n",
    "        return s\n",
    "    for row in range(numRows): # if numRows == 3, row is 0, 1, 2\n",
    "        j = 0\n",
    "        while j < len(s):\n",
    "            if j + row < len(s):\n",
    "                ret = ret + s[j + row]\n",
    "            if row != 0 and row !=  numRows - 1 and j + 2 * (numRows-1) - row < len(s):\n",
    "                ret = ret + s[j + 2 * (numRows-1) - row]\n",
    "            j = j + 2 * (numRows-1)\n",
    "    return ret"
   ]
  },
  {
   "cell_type": "code",
   "execution_count": null,
   "metadata": {
    "collapsed": false
   },
   "outputs": [],
   "source": [
    "s = 'A'\n",
    "numRows = 1\n",
    "convert(s, numRows)"
   ]
  },
  {
   "cell_type": "markdown",
   "metadata": {
    "collapsed": true
   },
   "source": [
    "#8. String to Integer\n"
   ]
  },
  {
   "cell_type": "code",
   "execution_count": 26,
   "metadata": {
    "collapsed": false
   },
   "outputs": [],
   "source": [
    "def myAtoi(str):\n",
    "    if str == '':\n",
    "        return 0\n",
    "    INT_MAX = 2147483647\n",
    "    sign = 1\n",
    "    i = 0\n",
    "    while str[i] == ' ':\n",
    "        i = i + 1\n",
    "    \n",
    "    if str[i] == '+':\n",
    "        if i + 1 < len(str) and str[i + 1] in '0123456789':\n",
    "            s = str[(i+1):]\n",
    "        else:\n",
    "            return 0\n",
    "    elif str[i] in '0123456789':\n",
    "        s = str[i:]\n",
    "    elif str[i] == '-':\n",
    "        if i + 10 < len(str) and str[(i+1):(i+11)]== '2147483648':\n",
    "            return 2147483648\n",
    "        elif i + 1< len(str) and str[i+1] in '0123456789':\n",
    "            s = str[(i+1):]\n",
    "        sign = -1\n",
    "    \n",
    "    i = 0\n",
    "    ret = 0\n",
    "    while i < len(s) and s[i] in '0123456789':\n",
    "        if ret > (INT_MAX - (ord(s[i])-ord('0'))) / 10.0:\n",
    "            return 0\n",
    "        else:\n",
    "            ret = ret * 10 + (ord(s[i])-ord('0'))\n",
    "            i = i + 1\n",
    "    return ret * sign"
   ]
  },
  {
   "cell_type": "code",
   "execution_count": 30,
   "metadata": {
    "collapsed": false
   },
   "outputs": [
    {
     "data": {
      "text/plain": [
       "-23"
      ]
     },
     "execution_count": 30,
     "metadata": {},
     "output_type": "execute_result"
    }
   ],
   "source": [
    "myAtoi('   -23yuiolkj4567')"
   ]
  },
  {
   "cell_type": "code",
   "execution_count": 14,
   "metadata": {
    "collapsed": false
   },
   "outputs": [
    {
     "data": {
      "text/plain": [
       "48"
      ]
     },
     "execution_count": 14,
     "metadata": {},
     "output_type": "execute_result"
    }
   ],
   "source": [
    "ord('0')"
   ]
  },
  {
   "cell_type": "code",
   "execution_count": 3,
   "metadata": {
    "collapsed": true
   },
   "outputs": [],
   "source": [
    "def myAtoi1(str):\n",
    "        if str == '':\n",
    "            return 0\n",
    "        INT_MAX = 2147483647\n",
    "        sign = 1\n",
    "        i = 0\n",
    "        while str[i] == ' ':\n",
    "            i = i + 1\n",
    "        \n",
    "        if str[i] == '+':\n",
    "            if i + 1 < len(str) and str[i + 1] in '0123456789':\n",
    "                s = str[(i+1):]\n",
    "            else:\n",
    "                return 0\n",
    "        elif str[i] in '0123456789':\n",
    "            s = str[i:]\n",
    "        elif str[i] == '-':\n",
    "            if i + 10 < len(str) and str[(i+1):(i+11)]== '2147483648':\n",
    "                return -2147483648\n",
    "            elif i + 1< len(str) and str[i+1] in '0123456789':\n",
    "                s = str[(i+1):]\n",
    "            sign = -1\n",
    "        else:\n",
    "            return 0\n",
    "            \n",
    "        i = 0\n",
    "        ret = 0\n",
    "        while i < len(s) and s[i] in '0123456789':\n",
    "            if ret > (INT_MAX - (ord(s[i])-ord('0'))) / 10.0:\n",
    "                return 0\n",
    "            else:\n",
    "                ret = ret * 10 + (ord(s[i])-ord('0'))\n",
    "                i = i + 1\n",
    "        return ret * sign"
   ]
  },
  {
   "cell_type": "code",
   "execution_count": null,
   "metadata": {
    "collapsed": true
   },
   "outputs": [],
   "source": [
    "def myAtoi2(str):\n",
    "    ret = 0\n",
    "    sign = 1\n",
    "    INT_MAX = 2147483647\n",
    "    INT_MIN = -2147483648\n",
    "    s = str\n",
    "# solide case 1: \n",
    "    if len(str) == 1:\n",
    "        if str[0] in '0123456789':\n",
    "            return ord(str[0]) - ord('0')\n",
    "            \n",
    "#Remove space in the beginning:            \n",
    "    elif len(str) >= 2:\n",
    "        i = 0\n",
    "        while i + 1 < len(str) and str[i] == \" \":\n",
    "            i = i + 1 \n",
    "        if str[i-1] == '+':\n",
    "            s = str[i:]\n",
    "        elif str[i-1] == '-':\n",
    "            s = str[i:]\n",
    "            sign = -1\n",
    "        else: \n",
    "            s = str[(i-1):]\n",
    "\n",
    "#Evaluate new string s\n",
    "    #special case: INT_MIN:\n",
    "    if len(s)>= 11 and s[0:12] == \"-2147483648\":\n",
    "        return INT_MIN\n",
    "    #Normal case:        \n",
    "    j = 0\n",
    "    while j < len(s) and s[j] in '0123456789':\n",
    "        if ret < (INT_MAX - (ord(s[j])-ord('0'))) / 10.0:\n",
    "            ret = ret * 10 + (ord(s[j])-ord('0'))\n",
    "    return ret * sign"
   ]
  },
  {
   "cell_type": "code",
   "execution_count": null,
   "metadata": {
    "collapsed": true
   },
   "outputs": [],
   "source": [
    "str = '134'\n",
    "myAtoi2(str)"
   ]
  },
  {
   "cell_type": "markdown",
   "metadata": {},
   "source": [
    "#9. Panlidrom Number"
   ]
  },
  {
   "cell_type": "code",
   "execution_count": 2,
   "metadata": {
    "collapsed": true
   },
   "outputs": [],
   "source": [
    "    def isPalindrome(x):\n",
    "        #negative numbers\n",
    "        if x < 0:\n",
    "            return False\n",
    "        factor = 1\n",
    "        \n",
    "        #Calculate factor\n",
    "        x2 = x\n",
    "        while x2 != 0 :\n",
    "            factor = factor * 10\n",
    "            x2 = x2 // 10\n",
    "        factor = factor / 10\n",
    "        \n",
    "        while x != 0:\n",
    "            if x // factor == x % 10: #x//factor will be 0, if there is one or multiple 0s\n",
    "                x = x % factor // 10\n",
    "                factor = factor // 100\n",
    "            else:\n",
    "                return False\n",
    "        return True"
   ]
  },
  {
   "cell_type": "markdown",
   "metadata": {
    "collapsed": true
   },
   "source": [
    "#14. Longest Common Prefix\n"
   ]
  },
  {
   "cell_type": "code",
   "execution_count": 3,
   "metadata": {
    "collapsed": true
   },
   "outputs": [],
   "source": [
    "    def longestCommonPrefix(strs):\n",
    "        if strs == [] or strs == ['']:\n",
    "            return ''\n",
    "        \n",
    "        ret = ''\n",
    "        \n",
    "        #loop 1\n",
    "        i = 0\n",
    "        while i < len(strs[0]): #strs[0] is the standard\n",
    "        #loop 2 \n",
    "            for j in range(0, len(strs)): #cycle each element in the list\n",
    "                if i >= len(strs[j]): # i need to be within the length of each element\n",
    "                    return ret\n",
    "                elif strs[j][i] != strs[0][i]: # equal the letter in standard\n",
    "                    return ret\n",
    "            ret = ret + strs[0][i]\n",
    "            i = i + 1\n",
    "        \n",
    "        return ret"
   ]
  },
  {
   "cell_type": "markdown",
   "metadata": {},
   "source": [
    "#19. Remove Nth Node from End of Linked List"
   ]
  },
  {
   "cell_type": "code",
   "execution_count": null,
   "metadata": {
    "collapsed": true
   },
   "outputs": [],
   "source": [
    "def removeNthFromEnd(head, n):\n",
    "        #set up an extra ListNoe\n",
    "        dummy = ListNode(0)\n",
    "        dummy.next = head\n",
    "        \n",
    "        #starting point\n",
    "        pointer1 = dummy\n",
    "        pointer2 = head\n",
    "        \n",
    "        #set pointer2 position\n",
    "        i = 0\n",
    "        while i < n:\n",
    "            if pointer2 == None:\n",
    "                return 0\n",
    "            else:\n",
    "                pointer2 = pointer2.next\n",
    "            i = i + 1\n",
    "            \n",
    "        #Two pointers move together\n",
    "        while pointer2 != None:\n",
    "            pointer1 = pointer1.next\n",
    "            pointer2 = pointer2.next\n",
    "        \n",
    "        pointer1.next = pointer1.next.next\n",
    "        \n",
    "        return dummy.next"
   ]
  },
  {
   "cell_type": "markdown",
   "metadata": {},
   "source": [
    "#20. Valid Parentheses"
   ]
  },
  {
   "cell_type": "code",
   "execution_count": 27,
   "metadata": {
    "collapsed": false
   },
   "outputs": [],
   "source": [
    "def isValid(s):\n",
    "    l = []\n",
    "    isTrue = True\n",
    "    left = '([{'\n",
    "    right = ')]}'\n",
    "# loop starts\n",
    "    i = 0\n",
    "    while i < len(s) and isTrue:\n",
    "        if s[i] in left:\n",
    "              l.append(s[i])\n",
    "        elif s[i] in right:\n",
    "            if l ==[]:\n",
    "                isTrue = False\n",
    "            elif left.index(l[-1]) != right.index(s[i]):\n",
    "                isTrue = False\n",
    "            else:\n",
    "                l.pop()\n",
    "        i = i + 1\n",
    "    if i == len(s) and l!=[]:\n",
    "        isTrue = False\n",
    "    return isTrue,l, i"
   ]
  },
  {
   "cell_type": "code",
   "execution_count": 29,
   "metadata": {
    "collapsed": false
   },
   "outputs": [
    {
     "data": {
      "text/plain": [
       "(False, ['['], 1)"
      ]
     },
     "execution_count": 29,
     "metadata": {},
     "output_type": "execute_result"
    }
   ],
   "source": [
    "s = '['\n",
    "isValid(s)"
   ]
  },
  {
   "cell_type": "markdown",
   "metadata": {},
   "source": [
    "#21. Merge two sorted lists"
   ]
  },
  {
   "cell_type": "code",
   "execution_count": 13,
   "metadata": {
    "collapsed": true
   },
   "outputs": [],
   "source": [
    "# Definition for singly-linked list.\n",
    "class ListNode:\n",
    "    def __init__(self, x):\n",
    "        self.val = x\n",
    "        self.next = None\n",
    "\n",
    "\n",
    "def mergeTwoLists(l1, l2):\n",
    "        p1 = l1\n",
    "        p2 = l2\n",
    "        l3 = ListNode(None)\n",
    "        p3 = l3\n",
    "        temp = ListNode(None)\n",
    "      \n",
    "        \n",
    "        #loop over normal cases, until one reach the end\n",
    "        while p1 != None and p2 != None:\n",
    "            if p1.val <= p2.val:\n",
    "                temp.val = p1.val\n",
    "                p1 = p1.next\n",
    "                p3.next = temp\n",
    "                p3 = temp\n",
    "            elif p1.val > p2.val:\n",
    "                temp.val = p2.val\n",
    "                p2 = p2.next\n",
    "                p3.next = temp\n",
    "                p3 = temp\n",
    "        \n",
    "        #if p1 reach end\n",
    "        if p1 == None:\n",
    "            p3.next = p2\n",
    "        #if p2 reach end\n",
    "        elif p2 == None:\n",
    "            p3.next = p1\n",
    "        \n",
    "        return l3.next\n",
    "        "
   ]
  },
  {
   "cell_type": "code",
   "execution_count": 14,
   "metadata": {
    "collapsed": false
   },
   "outputs": [
    {
     "ename": "AttributeError",
     "evalue": "'list' object has no attribute 'val'",
     "output_type": "error",
     "traceback": [
      "\u001b[0;31m---------------------------------------------------------------------------\u001b[0m",
      "\u001b[0;31mAttributeError\u001b[0m                            Traceback (most recent call last)",
      "\u001b[0;32m<ipython-input-14-f67415185c5c>\u001b[0m in \u001b[0;36m<module>\u001b[0;34m()\u001b[0m\n\u001b[1;32m      1\u001b[0m \u001b[0ml1\u001b[0m \u001b[0;34m=\u001b[0m \u001b[0;34m[\u001b[0m\u001b[0;36m5\u001b[0m\u001b[0;34m]\u001b[0m\u001b[0;34m\u001b[0m\u001b[0m\n\u001b[1;32m      2\u001b[0m \u001b[0ml2\u001b[0m \u001b[0;34m=\u001b[0m \u001b[0;34m[\u001b[0m\u001b[0;36m1\u001b[0m\u001b[0;34m,\u001b[0m\u001b[0;36m2\u001b[0m\u001b[0;34m,\u001b[0m\u001b[0;36m4\u001b[0m\u001b[0;34m]\u001b[0m\u001b[0;34m\u001b[0m\u001b[0m\n\u001b[0;32m----> 3\u001b[0;31m \u001b[0mmergeTwoLists\u001b[0m\u001b[0;34m(\u001b[0m\u001b[0ml1\u001b[0m\u001b[0;34m,\u001b[0m \u001b[0ml2\u001b[0m\u001b[0;34m)\u001b[0m\u001b[0;34m\u001b[0m\u001b[0m\n\u001b[0m",
      "\u001b[0;32m<ipython-input-13-a4cd3004242b>\u001b[0m in \u001b[0;36mmergeTwoLists\u001b[0;34m(l1, l2)\u001b[0m\n\u001b[1;32m     16\u001b[0m         \u001b[0;31m#loop over normal cases, until one reach the end\u001b[0m\u001b[0;34m\u001b[0m\u001b[0;34m\u001b[0m\u001b[0m\n\u001b[1;32m     17\u001b[0m         \u001b[0;32mwhile\u001b[0m \u001b[0mp1\u001b[0m \u001b[0;34m!=\u001b[0m \u001b[0mNone\u001b[0m \u001b[0;32mand\u001b[0m \u001b[0mp2\u001b[0m \u001b[0;34m!=\u001b[0m \u001b[0mNone\u001b[0m\u001b[0;34m:\u001b[0m\u001b[0;34m\u001b[0m\u001b[0m\n\u001b[0;32m---> 18\u001b[0;31m             \u001b[0;32mif\u001b[0m \u001b[0mp1\u001b[0m\u001b[0;34m.\u001b[0m\u001b[0mval\u001b[0m \u001b[0;34m<=\u001b[0m \u001b[0mp2\u001b[0m\u001b[0;34m.\u001b[0m\u001b[0mval\u001b[0m\u001b[0;34m:\u001b[0m\u001b[0;34m\u001b[0m\u001b[0m\n\u001b[0m\u001b[1;32m     19\u001b[0m                 \u001b[0mtemp\u001b[0m\u001b[0;34m.\u001b[0m\u001b[0mval\u001b[0m \u001b[0;34m=\u001b[0m \u001b[0mp1\u001b[0m\u001b[0;34m.\u001b[0m\u001b[0mval\u001b[0m\u001b[0;34m\u001b[0m\u001b[0m\n\u001b[1;32m     20\u001b[0m                 \u001b[0mp1\u001b[0m \u001b[0;34m=\u001b[0m \u001b[0mp1\u001b[0m\u001b[0;34m.\u001b[0m\u001b[0mnext\u001b[0m\u001b[0;34m\u001b[0m\u001b[0m\n",
      "\u001b[0;31mAttributeError\u001b[0m: 'list' object has no attribute 'val'"
     ]
    }
   ],
   "source": [
    "l1 = [5]\n",
    "l2 = [1,2,4]\n",
    "mergeTwoLists(l1, l2)"
   ]
  },
  {
   "cell_type": "markdown",
   "metadata": {
    "collapsed": true
   },
   "source": [
    "#11. Container With Most Water"
   ]
  },
  {
   "cell_type": "code",
   "execution_count": 1,
   "metadata": {
    "collapsed": true
   },
   "outputs": [],
   "source": [
    "def maxArea(height):\n",
    "    \n",
    "    max_area = 0\n",
    "    if len(height) <= 1:\n",
    "        return max_area\n",
    "    i = 0\n",
    "    j = len(height) -1\n",
    "    \n",
    "    while i < j:\n",
    "        \n",
    "        #case 1\n",
    "        if height[j] <= height[i]:\n",
    "            area = height[j] * (j-i)\n",
    "            if area > max_area:\n",
    "                max_area = area\n",
    "            k =1\n",
    "            while height[j-k] <= height[j]:\n",
    "                k = k + 1\n",
    "                if j-k <= i:\n",
    "                    return max_area\n",
    "            j = j - k\n",
    "        \n",
    "        #case 2\n",
    "        elif height[i] < height[j]:\n",
    "            area = height[i] * (j-i)\n",
    "            if area > max_area:\n",
    "                max_area = area\n",
    "            t =1\n",
    "            while height[i + t] <= height[i]:\n",
    "                t = t + 1\n",
    "                if i + t <= j:\n",
    "                    return max_area\n",
    "            i = i + t\n",
    "    return max_area"
   ]
  },
  {
   "cell_type": "code",
   "execution_count": 2,
   "metadata": {
    "collapsed": false
   },
   "outputs": [
    {
     "data": {
      "text/plain": [
       "4"
      ]
     },
     "execution_count": 2,
     "metadata": {},
     "output_type": "execute_result"
    }
   ],
   "source": [
    "height = [1,2,4,5]\n",
    "maxArea(height)"
   ]
  },
  {
   "cell_type": "markdown",
   "metadata": {
    "collapsed": true
   },
   "source": [
    "#15. 3 Sum"
   ]
  },
  {
   "cell_type": "code",
   "execution_count": 31,
   "metadata": {
    "collapsed": true
   },
   "outputs": [],
   "source": [
    "#2 sum, return all possible combinations\n",
    "def twoSums(l, target):\n",
    "    i = 0\n",
    "    j = len(l)-1\n",
    "    ret = []\n",
    "    l2 = sorted(l)\n",
    "    while i < j:\n",
    "        if l2[i] + l2[j] > target:\n",
    "            j = j -1\n",
    "        elif l2[i] + l2[j] == target:\n",
    "            ret.append([l2[i], l2[j]])\n",
    "            i = i + 1\n",
    "            j = j - 1\n",
    "            while i < j and l2[i]==l2[i-1]:\n",
    "                i = i + 1\n",
    "            while i < j and l2[j]==l2[j+1]:\n",
    "                j = j - 1                \n",
    "        elif l2[i] + l2[j] < target:\n",
    "            i = i + 1\n",
    "    return ret"
   ]
  },
  {
   "cell_type": "code",
   "execution_count": 32,
   "metadata": {
    "collapsed": false
   },
   "outputs": [
    {
     "data": {
      "text/plain": [
       "[[-1, 1]]"
      ]
     },
     "execution_count": 32,
     "metadata": {},
     "output_type": "execute_result"
    }
   ],
   "source": [
    "#l = [1,2,3,4,5,6,7,8,9,10]\n",
    "l = [1,-1,-1,0]\n",
    "target = 0\n",
    "twoSums(l, target)"
   ]
  },
  {
   "cell_type": "code",
   "execution_count": 30,
   "metadata": {
    "collapsed": false
   },
   "outputs": [],
   "source": [
    "    def threeSum(nums):\n",
    "        i = 0\n",
    "        j = len(nums)-1\n",
    "        ret = []\n",
    "        l2 = sorted(nums)\n",
    "        print l2\n",
    "        while i < len(nums):\n",
    "            print i\n",
    "            k = i + 1\n",
    "            j = len(nums)-1\n",
    "            while k < j:\n",
    "                print 'i=', i, 'k=',k, 'j=', j\n",
    "                if l2[k] + l2[j] > -l2[i]:\n",
    "                    j = j -1\n",
    "                elif l2[k] + l2[j] == -l2[i]:\n",
    "                    ret.append([l2[i],l2[k],l2[j]]) # the case need to append\n",
    "                    print ret\n",
    "                    k + 1 #update anyway\n",
    "                    j = j - 1 # update anyway\n",
    "                    while k < j and l2[k]==l2[k-1]:\n",
    "                        k = k + 1 #update anyway\n",
    "                        \n",
    "                    while k < j and l2[j]==l2[j+1]:\n",
    "                        j = j - 1 # update anyway\n",
    "                elif l2[k] + l2[j] < -l2[i]:\n",
    "                    k = k + 1\n",
    "            #update i\n",
    "            i = i + 1\n",
    "            while i < len(nums) and l2[i] == l2[i-1]: #remove dulicates\n",
    "                i = i + 1\n",
    "        return ret   "
   ]
  },
  {
   "cell_type": "code",
   "execution_count": 24,
   "metadata": {
    "collapsed": false
   },
   "outputs": [
    {
     "name": "stdout",
     "output_type": "stream",
     "text": [
      "[-1, -1, 0, 1]\n",
      "0\n",
      "i= 0 k= 1 j= 3\n",
      "i= 0 k= 2 j= 3\n",
      "[[-1, 0, 1]]\n",
      "2\n",
      "3\n"
     ]
    },
    {
     "data": {
      "text/plain": [
       "[[-1, 0, 1]]"
      ]
     },
     "execution_count": 24,
     "metadata": {},
     "output_type": "execute_result"
    }
   ],
   "source": [
    "#l = [1,2,2,3,4,5,6,7,7,8,9,10]\n",
    "#l = [-1, 0, 1, 2, -1, -4]\n",
    "#l = [-4,-2,-2,-2,0,1,2,2,2,3,3,4,4,6,6]\n",
    "l = [1,-1,-1,0]\n",
    "threeSum(l)"
   ]
  },
  {
   "cell_type": "markdown",
   "metadata": {
    "collapsed": true
   },
   "source": [
    "#Three Sum Closest"
   ]
  },
  {
   "cell_type": "code",
   "execution_count": 45,
   "metadata": {
    "collapsed": false
   },
   "outputs": [],
   "source": [
    "    def threeSumClosest(nums, target):\n",
    "        i = 0\n",
    "        j = len(nums)-1\n",
    "        ret = None\n",
    "        l2 = sorted(nums)\n",
    "        final_result = None\n",
    "        while i < len(l2):\n",
    "            k = i + 1\n",
    "            j = len(nums)-1\n",
    "            while k < j:\n",
    "                value =  (l2[i] + l2[k] + l2[j]) -  target\n",
    "                if ret == None or (ret !=None and abs(value) < ret):\n",
    "                    final_result = (l2[i] + l2[k] + l2[j])\n",
    "                    ret = abs(value)\n",
    "                #move k, j at 3 different situation\n",
    "                if value > 0:\n",
    "                    j = j - 1\n",
    "                elif value == 0:\n",
    "                    return final_result\n",
    "                elif value < 0:\n",
    "                    k = k + 1\n",
    "            i = i + 1\n",
    "                \n",
    "        return final_result \n",
    "    "
   ]
  },
  {
   "cell_type": "code",
   "execution_count": 46,
   "metadata": {
    "collapsed": false
   },
   "outputs": [
    {
     "data": {
      "text/plain": [
       "0"
      ]
     },
     "execution_count": 46,
     "metadata": {},
     "output_type": "execute_result"
    }
   ],
   "source": [
    "l = [0,0,0]\n",
    "target = 1\n",
    "threeSumClosest(l, target)"
   ]
  },
  {
   "cell_type": "markdown",
   "metadata": {},
   "source": [
    "#18. 4Sum"
   ]
  },
  {
   "cell_type": "code",
   "execution_count": 103,
   "metadata": {
    "collapsed": false
   },
   "outputs": [],
   "source": [
    "def fourSum(nums, target):\n",
    "        l = sorted(nums)\n",
    "        print l\n",
    "        i = 0\n",
    "        ret = []\n",
    "        while i < len(l):\n",
    "            \n",
    "            \n",
    "            j = i + 1\n",
    "            while j < len(l):#1\n",
    "                \n",
    "                \n",
    "                k = j + 1\n",
    "                t = len(l)-1\n",
    "                while k < t:\n",
    "                    #print i, j, k, t\n",
    "                    if l[i]+ l[j] + l[k] + l[t] > target:\n",
    "                        t = t -1\n",
    "                    elif l[i]+ l[j] + l[k] + l[t] == target:\n",
    "                        print i, j, k ,t\n",
    "                        ret.append([l[i], l[j], l[k], l[t]])\n",
    "                        k = k + 1\n",
    "                        print i, j, k ,t\n",
    "                        print \"k\", k,\"t\", t\n",
    "                        while k < t and l[k] == l[k-1]:\n",
    "                            print \"k\", k,\"t\", t\n",
    "                            k = k + 1\n",
    "                        t = t - 1\n",
    "                        while k < t and l[t] == l[t+1]:\n",
    "                            t = t - 1\n",
    "                    elif l[i]+ l[j] + l[k] + l[t] < target:\n",
    "                        k = k + 1\n",
    "            \n",
    "                j = j + 1\n",
    "                print \"j before\", j\n",
    "                while j < len(l) and l[j] == l[j-1]:\n",
    "                   \n",
    "                    j = j + 1\n",
    "                    print \"j after\", j\n",
    "            \n",
    "            i = i + 1\n",
    "            while i < len(l) and l[i] == l[i-1]:#1\n",
    "                i = i + 1\n",
    "        \n",
    "        \n",
    "        return i, j, k,t, ret\n"
   ]
  },
  {
   "cell_type": "code",
   "execution_count": 104,
   "metadata": {
    "collapsed": false
   },
   "outputs": [
    {
     "name": "stdout",
     "output_type": "stream",
     "text": [
      "[-3, -3, -2, -2, -2, 0, 0, 4]\n",
      "j before 2\n",
      "0 2 5 7\n",
      "0 2 6 7\n",
      "k 6 t 7\n",
      "k 6 t 7\n",
      "j before 3\n",
      "j after 4\n",
      "j after 5\n",
      "j before 6\n",
      "j after 7\n",
      "j before 8\n",
      "j before 4\n",
      "j after 5\n",
      "j before 6\n",
      "j after 7\n",
      "j before 8\n",
      "j before 7\n",
      "j before 8\n"
     ]
    },
    {
     "data": {
      "text/plain": [
       "(8, 8, 8, 7, [[-3, -2, 0, 4]])"
      ]
     },
     "execution_count": 104,
     "metadata": {},
     "output_type": "execute_result"
    }
   ],
   "source": [
    "#nums = [1,0,-1,0,-2,2]\n",
    "nums=[0,0,4,-2,-3,-2,-2,-3]\n",
    "target = -1\n",
    "fourSum(nums, target)"
   ]
  },
  {
   "cell_type": "markdown",
   "metadata": {
    "collapsed": true
   },
   "source": [
    "# 26. Remove Duplicates from Sorted Array"
   ]
  },
  {
   "cell_type": "code",
   "execution_count": 9,
   "metadata": {
    "collapsed": true
   },
   "outputs": [],
   "source": [
    "    def removeDuplicates(nums):\n",
    "        if len(nums) <= 1:\n",
    "            return []\n",
    "        i = 0\n",
    "        j = 1\n",
    "        while j < len(nums):\n",
    "            if nums[j] == nums[i]:\n",
    "                j = j + 1\n",
    "            else:\n",
    "                i = i + 1\n",
    "                nums[i] = nums[j]\n",
    "                j = j + 1\n",
    "                \n",
    "        return (i+1)"
   ]
  },
  {
   "cell_type": "code",
   "execution_count": 10,
   "metadata": {
    "collapsed": false
   },
   "outputs": [
    {
     "data": {
      "text/plain": [
       "3"
      ]
     },
     "execution_count": 10,
     "metadata": {},
     "output_type": "execute_result"
    }
   ],
   "source": [
    "nums = [1,1,1,3,5]\n",
    "removeDuplicates(nums)"
   ]
  },
  {
   "cell_type": "code",
   "execution_count": 17,
   "metadata": {
    "collapsed": true
   },
   "outputs": [],
   "source": [
    "   def removeDuplicates(nums):\n",
    "        \"\"\"\n",
    "        :type nums: List[int]\n",
    "        :rtype: int\n",
    "        \"\"\"\n",
    "        if len(nums) == 0:\n",
    "            return 0\n",
    "        i = 0\n",
    "        j = 1\n",
    "        while j < len(nums):\n",
    "            if nums[j] != nums[j-1]:\n",
    "                i = i + 1\n",
    "                nums[i] = nums[j]\n",
    "                j = j + 1\n",
    "                \n",
    "            else:\n",
    "                j = j + 1\n",
    "                \n",
    "        return i+1"
   ]
  },
  {
   "cell_type": "code",
   "execution_count": 18,
   "metadata": {
    "collapsed": false
   },
   "outputs": [
    {
     "data": {
      "text/plain": [
       "0"
      ]
     },
     "execution_count": 18,
     "metadata": {},
     "output_type": "execute_result"
    }
   ],
   "source": [
    "#nums = [1,1,5,8,10]\n",
    "nums = []\n",
    "removeDuplicates(nums)"
   ]
  },
  {
   "cell_type": "markdown",
   "metadata": {},
   "source": [
    "#17.Letter Combinations of a Phone Number"
   ]
  },
  {
   "cell_type": "code",
   "execution_count": 27,
   "metadata": {
    "collapsed": false
   },
   "outputs": [],
   "source": [
    "def letterCombinations(digits):\n",
    "    d = {2: ['a','b','c'], 3: ['d','e','f'], 4: ['g','h','i'], 5: ['j','k','l'], 6: ['m','n','o'], 7: ['p','q','r','s'], 8: ['t','u','v'], 9: ['w','x','y', 'z']}\n",
    "    if len(digits) == 1:\n",
    "        return d[digits]\n",
    "    else:\n",
    "        l = []\n",
    "        for i in letterCombinations(digits[:-1]):\n",
    "            for j in range (0, d[len(digits[-1])]):\n",
    "                l.append(i + digits[-1][j])\n",
    "        return l\n",
    "         "
   ]
  },
  {
   "cell_type": "code",
   "execution_count": 105,
   "metadata": {
    "collapsed": false
   },
   "outputs": [],
   "source": [
    "    def letterCombinations(self, digits):    \n",
    "        d = {'2': 'abc', '3': 'edf', '4': 'ghi', '5':'jkl', '6': 'mno', '7': 'pqrs', '8': 'tuv', '9': 'wxyz'}\n",
    "        \n",
    "        #special case 1\n",
    "        if digits == '':\n",
    "            return []\n",
    "            \n",
    "        #initialize the first list\n",
    "        l = []\n",
    "        for i in range(0,len(d[digits[0]])):\n",
    "            l.append(d[digits[0]][i])\n",
    "        \n",
    "        #Longer strings\n",
    "        for j in range(1, len(digits)):\n",
    "            l2 = []\n",
    "            for element in l: # use stored l as a base\n",
    "                for k in range(0,len(d[digits[j]])):\n",
    "                    l2.append(element + d[digits[j]][k]) \n",
    "            l = l2 # most critical, updates l\n",
    "        return l"
   ]
  },
  {
   "cell_type": "code",
   "execution_count": 108,
   "metadata": {
    "collapsed": false
   },
   "outputs": [],
   "source": [
    "def letterCombinations(digits):\n",
    "        d = {'2': 'abc', '3': 'edf', '4': 'ghi', '5':'jkl', '6': 'mno', '7': 'pqrs', '8': 'tuv', '9': 'wxyz'}\n",
    "        \n",
    "        #special case 1\n",
    "        if digits == '':\n",
    "            return []\n",
    "            \n",
    "        #initialize the first list\n",
    "        l = []\n",
    "        for i in range(0,len(d[digits[0]])):\n",
    "            l.append(d[digits[0]][i])\n",
    "        \n",
    "        #Longer strings\n",
    "        for j in range(1, len(digits)):\n",
    "            l2 = []\n",
    "            for element in l: # use stored l as a base\n",
    "                for k in range(0,len(d[digits[j]])):\n",
    "                    l2.append(element + d[digits[j]][k]) \n",
    "            l = l2 # most critical, updates l\n",
    "        return l"
   ]
  },
  {
   "cell_type": "code",
   "execution_count": 1,
   "metadata": {
    "collapsed": false
   },
   "outputs": [
    {
     "data": {
      "text/plain": [
       "[None, None, None, None, None, None, None, None, None, None, None]"
      ]
     },
     "execution_count": 1,
     "metadata": {},
     "output_type": "execute_result"
    }
   ],
   "source": [
    "slots = [None] * 11\n",
    "slots"
   ]
  },
  {
   "cell_type": "code",
   "execution_count": 3,
   "metadata": {
    "collapsed": false
   },
   "outputs": [
    {
     "name": "stdout",
     "output_type": "stream",
     "text": [
      "8\n",
      "7\n",
      "6\n",
      "5\n",
      "4\n",
      "3\n",
      "2\n",
      "1\n"
     ]
    }
   ],
   "source": [
    "for i in range(9-1,0, -1):\n",
    "    print i"
   ]
  },
  {
   "cell_type": "markdown",
   "metadata": {},
   "source": []
  }
 ],
 "metadata": {
  "kernelspec": {
   "display_name": "Python 2",
   "language": "python",
   "name": "python2"
  },
  "language_info": {
   "codemirror_mode": {
    "name": "ipython",
    "version": 2
   },
   "file_extension": ".py",
   "mimetype": "text/x-python",
   "name": "python",
   "nbconvert_exporter": "python",
   "pygments_lexer": "ipython2",
   "version": "2.7.10"
  }
 },
 "nbformat": 4,
 "nbformat_minor": 0
}
